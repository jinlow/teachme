{
 "cells": [
  {
   "cell_type": "markdown",
   "metadata": {},
   "source": [
    "# Exploring Sentence Processing: Hebrews\n",
    "Let's explore using the nlp library `spaCy` for processing sentences to extract, meaning and summaries. \n",
    "For this we will use the the book of Hebrews from the NIV bible."
   ]
  },
  {
   "cell_type": "code",
   "execution_count": 1,
   "metadata": {},
   "outputs": [],
   "source": [
    "import spacy\n",
    "nlp = spacy.load(\"en_core_web_md\")"
   ]
  },
  {
   "cell_type": "markdown",
   "metadata": {},
   "source": [
    "We will read in the document as one string to then parse with spaCy."
   ]
  },
  {
   "cell_type": "code",
   "execution_count": 2,
   "metadata": {},
   "outputs": [],
   "source": [
    "file = open('hebrews.txt', mode='r')\n",
    "all_text = file.read()\n",
    "file.close()"
   ]
  },
  {
   "cell_type": "code",
   "execution_count": 3,
   "metadata": {},
   "outputs": [],
   "source": [
    "doc = nlp(all_text)"
   ]
  },
  {
   "cell_type": "markdown",
   "metadata": {},
   "source": [
    "The document can be split into document spans of the sentences."
   ]
  },
  {
   "cell_type": "code",
   "execution_count": 4,
   "metadata": {},
   "outputs": [],
   "source": [
    "doc_sents = [sent for sent in doc.sents]"
   ]
  },
  {
   "cell_type": "code",
   "execution_count": 5,
   "metadata": {},
   "outputs": [
    {
     "data": {
      "text/plain": [
       "spacy.tokens.span.Span"
      ]
     },
     "execution_count": 5,
     "metadata": {},
     "output_type": "execute_result"
    }
   ],
   "source": [
    "doc_sents[0].__class__"
   ]
  },
  {
   "cell_type": "markdown",
   "metadata": {},
   "source": [
    "We can treat these spans as individual documents for our purpose, although if we could make them into documents with the `Span.as_doc()` method."
   ]
  },
  {
   "cell_type": "code",
   "execution_count": 6,
   "metadata": {},
   "outputs": [
    {
     "name": "stdout",
     "output_type": "stream",
     "text": [
      "so so\n",
      "-PRON- he\n",
      "become became\n",
      "as as\n",
      "much much\n",
      "superior superior\n",
      "to to\n",
      "the the\n",
      "angel angels\n",
      "as as\n",
      "the the\n",
      "name name\n",
      "-PRON- he\n",
      "have has\n",
      "inherit inherited\n",
      "be is\n",
      "superior superior\n",
      "to to\n",
      "-PRON- theirs\n",
      ". .\n",
      "   \n"
     ]
    }
   ],
   "source": [
    "for tok in doc_sents[3]:\n",
    "    print(tok.lemma_, tok.lower_)"
   ]
  },
  {
   "cell_type": "markdown",
   "metadata": {},
   "source": [
    "There are some empty sentences, we will remove these."
   ]
  },
  {
   "cell_type": "code",
   "execution_count": 7,
   "metadata": {},
   "outputs": [],
   "source": [
    "for sent in doc_sents:\n",
    "    if len(sent) < 3:\n",
    "        doc_sents.remove(sent)"
   ]
  },
  {
   "cell_type": "code",
   "execution_count": 8,
   "metadata": {},
   "outputs": [
    {
     "data": {
      "text/plain": [
       "338"
      ]
     },
     "execution_count": 8,
     "metadata": {},
     "output_type": "execute_result"
    }
   ],
   "source": [
    "len(doc_sents)"
   ]
  },
  {
   "cell_type": "markdown",
   "metadata": {},
   "source": [
    "### Clustering Sentences\n",
    "Lets create a matrix of sentence vectors. Spacy will automatically avergage all word vectors in a sentence to create a single vector. The vector is the numeric representation of the semantics of a sentence."
   ]
  },
  {
   "cell_type": "code",
   "execution_count": 9,
   "metadata": {},
   "outputs": [],
   "source": [
    "import numpy as np"
   ]
  },
  {
   "cell_type": "code",
   "execution_count": 10,
   "metadata": {},
   "outputs": [],
   "source": [
    "smat = np.vstack([sent.vector for sent in doc_sents])"
   ]
  },
  {
   "cell_type": "code",
   "execution_count": 11,
   "metadata": {},
   "outputs": [
    {
     "data": {
      "text/plain": [
       "(338, 300)"
      ]
     },
     "execution_count": 11,
     "metadata": {},
     "output_type": "execute_result"
    }
   ],
   "source": [
    "smat.shape"
   ]
  },
  {
   "cell_type": "markdown",
   "metadata": {},
   "source": [
    "Now we will cluster this data. I want to test looking at the centroid of each cluster, and see if these sentences could be used as a summary of the document."
   ]
  },
  {
   "cell_type": "code",
   "execution_count": 12,
   "metadata": {},
   "outputs": [],
   "source": [
    "from sklearn.cluster import KMeans"
   ]
  },
  {
   "cell_type": "markdown",
   "metadata": {},
   "source": [
    "Lets try to get the optimal number of clusters using the elbow method."
   ]
  },
  {
   "cell_type": "code",
   "execution_count": 13,
   "metadata": {},
   "outputs": [],
   "source": [
    "Sum_of_squared_distances = []\n",
    "K = range(1,15)\n",
    "for k in K:\n",
    "    km = KMeans(n_clusters=k, random_state=123)\n",
    "    km = km.fit(smat)\n",
    "    Sum_of_squared_distances.append(km.inertia_)"
   ]
  },
  {
   "cell_type": "code",
   "execution_count": 14,
   "metadata": {},
   "outputs": [],
   "source": [
    "import matplotlib.pyplot as plt"
   ]
  },
  {
   "cell_type": "code",
   "execution_count": 15,
   "metadata": {},
   "outputs": [
    {
     "data": {
      "image/png": "[encoded data removed]",
      "text/plain": [
       "<Figure size 432x288 with 1 Axes>"
      ]
     },
     "metadata": {
      "needs_background": "light"
     },
     "output_type": "display_data"
    }
   ],
   "source": [
    "plt.plot(K, Sum_of_squared_distances, 'bx-')\n",
    "plt.xlabel('k')\n",
    "plt.ylabel('Sum_of_squared_distances')\n",
    "plt.title('Elbow Method For Optimal k')\n",
    "plt.show()"
   ]
  },
  {
   "cell_type": "markdown",
   "metadata": {},
   "source": [
    "It is sort of ambigous, lets use 4 for now."
   ]
  },
  {
   "cell_type": "code",
   "execution_count": 16,
   "metadata": {},
   "outputs": [],
   "source": [
    "kmeans = KMeans(n_clusters=3, random_state=123)"
   ]
  },
  {
   "cell_type": "code",
   "execution_count": 17,
   "metadata": {},
   "outputs": [],
   "source": [
    "sent_clusters = kmeans.fit(smat)"
   ]
  },
  {
   "cell_type": "code",
   "execution_count": 18,
   "metadata": {},
   "outputs": [
    {
     "data": {
      "text/plain": [
       "(array([0, 1, 2], dtype=int32), array([128,  79, 131]))"
      ]
     },
     "execution_count": 18,
     "metadata": {},
     "output_type": "execute_result"
    }
   ],
   "source": [
    "np.unique(sent_clusters.labels_, return_counts=True)"
   ]
  },
  {
   "cell_type": "markdown",
   "metadata": {},
   "source": [
    "Now lets take the sentence closest to the centroid of each cluster."
   ]
  },
  {
   "cell_type": "code",
   "execution_count": 19,
   "metadata": {},
   "outputs": [],
   "source": [
    "from sklearn.metrics import pairwise_distances_argmin_min"
   ]
  },
  {
   "cell_type": "code",
   "execution_count": 20,
   "metadata": {},
   "outputs": [],
   "source": [
    "closest, _ = pairwise_distances_argmin_min(sent_clusters.cluster_centers_, smat)"
   ]
  },
  {
   "cell_type": "code",
   "execution_count": 21,
   "metadata": {},
   "outputs": [
    {
     "data": {
      "text/plain": [
       "array([167,  86, 107])"
      ]
     },
     "execution_count": 21,
     "metadata": {},
     "output_type": "execute_result"
    }
   ],
   "source": [
    "closest"
   ]
  },
  {
   "cell_type": "markdown",
   "metadata": {},
   "source": [
    "In theory, the centroid of these clusters, should give us a sense of the meaning of these clusters. Looking at them all together would give a simplified look at the collective meaning, or summary, of the document."
   ]
  },
  {
   "cell_type": "code",
   "execution_count": 22,
   "metadata": {},
   "outputs": [
    {
     "name": "stdout",
     "output_type": "stream",
     "text": [
      "______________________________\n",
      "\n",
      "Cluster: 0\n",
      "When Christ came as high priest of the good things that are already here, he went through the greater and more perfect tabernacle that is not man-made, that is to say, not a part of this creation.  \n",
      "\n",
      "Cluster: 1\n",
      "Although he was a son, he learned obedience from what he suffered  and, once made perfect, he became the source of eternal salvation for all who obey him  and was designated by God to be high priest in the order of Melchizedek.  \n",
      "\n",
      "Cluster: 2\n",
      "God did this so that, by two unchangeable things in which it is impossible for God to lie, we who have fled to take hold of the hope offered to us may be greatly encouraged.  \n",
      "______________________________\n"
     ]
    }
   ],
   "source": [
    "print('_' * 30)\n",
    "for sent, clust_id in zip(np.array(doc_sents)[closest], range(3)):\n",
    "    print()\n",
    "    print('Cluster: ' + str(clust_id))\n",
    "    print(sent)\n",
    "print('_' * 30)"
   ]
  },
  {
   "cell_type": "markdown",
   "metadata": {},
   "source": [
    "This gives us the sentence that best summarizes the meaning in each cluster. \n",
    "We can see the first discusses the priesthood of Christ, the second the sacrafice, and the third the character of God."
   ]
  },
  {
   "cell_type": "markdown",
   "metadata": {},
   "source": [
    "**Visualize the Data**  \n",
    "Lets take a look at the data, and further explore these clusters."
   ]
  },
  {
   "cell_type": "code",
   "execution_count": 23,
   "metadata": {},
   "outputs": [],
   "source": [
    "import seaborn as sns"
   ]
  },
  {
   "cell_type": "code",
   "execution_count": 24,
   "metadata": {},
   "outputs": [],
   "source": [
    "from sklearn.decomposition import PCA"
   ]
  },
  {
   "cell_type": "markdown",
   "metadata": {},
   "source": [
    "We can use the first two principle components to transform the data to 2 dimensions for plotting."
   ]
  },
  {
   "cell_type": "code",
   "execution_count": 25,
   "metadata": {},
   "outputs": [],
   "source": [
    "pca = PCA(n_components=2)"
   ]
  },
  {
   "cell_type": "code",
   "execution_count": 26,
   "metadata": {},
   "outputs": [],
   "source": [
    "fplot = pca.fit_transform(smat)"
   ]
  },
  {
   "cell_type": "code",
   "execution_count": 27,
   "metadata": {},
   "outputs": [
    {
     "data": {
      "image/png": "[encoded data removed]",
      "text/plain": [
       "<Figure size 720x504 with 1 Axes>"
      ]
     },
     "metadata": {
      "needs_background": "light"
     },
     "output_type": "display_data"
    }
   ],
   "source": [
    "plt.figure(figsize=(10, 7))\n",
    "plt.xlabel('PCA1')\n",
    "plt.ylabel('PCA2')\n",
    "p1 = sns.scatterplot(x=fplot[:,0], y=fplot[:,1],\n",
    "                     hue=sent_clusters.labels_,\n",
    "                     legend='full')"
   ]
  },
  {
   "cell_type": "markdown",
   "metadata": {},
   "source": [
    "**Samples from Clusters**  \n",
    "Let's look at the k nearest neighbors to the centroid of the clusters. This will give us a better sense of the information in each cluster."
   ]
  },
  {
   "cell_type": "code",
   "execution_count": 28,
   "metadata": {},
   "outputs": [],
   "source": [
    "from sklearn.neighbors import NearestNeighbors"
   ]
  },
  {
   "cell_type": "code",
   "execution_count": 29,
   "metadata": {},
   "outputs": [],
   "source": [
    "nene = NearestNeighbors(n_neighbors=5, metric='cosine')"
   ]
  },
  {
   "cell_type": "code",
   "execution_count": 30,
   "metadata": {},
   "outputs": [
    {
     "data": {
      "text/plain": [
       "NearestNeighbors(algorithm='auto', leaf_size=30, metric='cosine',\n",
       "                 metric_params=None, n_jobs=None, n_neighbors=5, p=2,\n",
       "                 radius=1.0)"
      ]
     },
     "execution_count": 30,
     "metadata": {},
     "output_type": "execute_result"
    }
   ],
   "source": [
    "nene.fit(smat)"
   ]
  },
  {
   "cell_type": "code",
   "execution_count": 31,
   "metadata": {},
   "outputs": [
    {
     "name": "stdout",
     "output_type": "stream",
     "text": [
      "Cluster: 0\n",
      "------------------------------\n",
      "When Christ came as high priest of the good things that are already here, he went through the greater and more perfect tabernacle that is not man-made, that is to say, not a part of this creation.  \n",
      "\n",
      "For this reason he had to be made like his brothers in every way, in order that he might become a merciful and faithful high priest in service to God, and that he might make atonement for the sins of the people.  \n",
      "\n",
      "It is impossible for those who have once been enlightened, who have tasted the heavenly gift, who have shared in the Holy Spirit,  who have tasted the goodness of the word of God and the powers of the coming age,  if they fall away, to be brought back to repentance, because to their loss they are crucifying the Son of God all over again and subjecting him to public disgrace.  \n",
      "\n",
      "Cluster: 1\n",
      "------------------------------\n",
      "Although he was a son, he learned obedience from what he suffered  and, once made perfect, he became the source of eternal salvation for all who obey him  and was designated by God to be high priest in the order of Melchizedek.  \n",
      "\n",
      "He who had received the promises was about to sacrifice his one and only son,  even though God had said to him, \"It is through Isaac that your offspring will be reckoned.\n",
      "\n",
      "But we see Jesus, who was made a little lower than the angels, now crowned with glory and honor because he suffered death, so that by the grace of God he might taste death for everyone.  \n",
      "\n",
      "Cluster: 2\n",
      "------------------------------\n",
      "God did this so that, by two unchangeable things in which it is impossible for God to lie, we who have fled to take hold of the hope offered to us may be greatly encouraged.  \n",
      "\n",
      "God is not unjust; he will not forget your work and the love you have shown him as you have helped his people and continue to help them.  \n",
      "\n",
      "Marriage should be honored by all, and the marriage bed kept pure, for God will judge the adulterer and all the sexually immoral.  Keep your lives free from the love of money and be content with what you have, because God has said, \"Never will I leave you; never will I forsake you.\n",
      "\n"
     ]
    }
   ],
   "source": [
    "n_clust = len(sent_clusters.cluster_centers_)\n",
    "for centroid, clust_id in zip(sent_clusters.cluster_centers_, range(n_clust)):\n",
    "    nn_a = nene.kneighbors(centroid.reshape(1, -1), 3)[1]\n",
    "    print('Cluster: ' + str(clust_id))\n",
    "    print(\"-\"*30)\n",
    "    for sent in np.array(doc_sents)[nn_a][0]:\n",
    "        print(sent)\n",
    "        print()"
   ]
  },
  {
   "cell_type": "markdown",
   "metadata": {},
   "source": [
    "Looking at the sentences closet to the centroid of each cluster we can confirm the meaning of these groups."
   ]
  },
  {
   "cell_type": "code",
   "execution_count": null,
   "metadata": {},
   "outputs": [],
   "source": []
  }
 ],
 "metadata": {
  "kernelspec": {
   "display_name": "Python 3",
   "language": "python",
   "name": "python3"
  },
  "language_info": {
   "codemirror_mode": {
    "name": "ipython",
    "version": 3
   },
   "file_extension": ".py",
   "mimetype": "text/x-python",
   "name": "python",
   "nbconvert_exporter": "python",
   "pygments_lexer": "ipython3",
   "version": "3.7.2"
  }
 },
 "nbformat": 4,
 "nbformat_minor": 4
}
